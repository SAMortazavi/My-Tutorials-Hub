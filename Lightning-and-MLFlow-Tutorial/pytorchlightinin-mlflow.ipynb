{
 "cells": [
  {
   "cell_type": "markdown",
   "metadata": {},
   "source": [
    "<div style=\"text-align: center; padding: 30px; border: 3px solid #f39c12; border-radius: 15px; background-color: #f4f6f7; font-family: 'Arial', sans-serif; box-shadow: 0 4px 10px rgba(0, 0, 0, 0.1);\">\n",
    "  \n",
    "  <h1 style=\"color: #007acc; font-size: 36px; font-weight: bold; margin-bottom: 15px; text-transform: uppercase;\">PyTorch Lightning and MLFlow Tutorial</h1>\n",
    "\n",
    "  <h3 style=\"color: #333; font-size: 22px; font-weight: normal; margin-bottom: 20px;\">Learning the Basics of PyTorch Lightning and MLFlow by Training a densenet121 Model on CIFAR-100</h3>\n",
    "\n",
    "  <div style=\"font-size: 18px; color: #333; margin-bottom: 10px;\">\n",
    "    <strong>Author:</strong> Seyed Abolfazl Mortazavi\n",
    "  </div>\n",
    "  <div style=\"font-size: 18px; color: #333; margin-bottom: 20px;\">\n",
    "    <strong>Date:</strong> December 2024\n",
    "  </div>\n",
    "\n",
    "  <div style=\"text-align: center;\">\n",
    "    <a href=\"https://github.com/SAMortazavi\" style=\"font-size: 18px; color: #007acc; text-decoration: none; font-weight: bold; border: 2px solid #007acc; border-radius: 8px; padding: 10px 20px; transition: 0.3s; display: inline-block;\">Visit GitHub</a>\n",
    "  </div>\n",
    "</div>\n"
   ]
  },
  {
   "cell_type": "markdown",
   "metadata": {},
   "source": [
    "# PyTorch Lightning CIFAR-100 Classification Tutorial\n",
    "\n",
    "This notebook demonstrates how to use **PyTorch Lightning** to train a deep learning model on the **CIFAR-100** dataset. The model employs a pre-trained **DenseNet-121** architecture as a backbone for feature extraction, with an additional fully connected (FC) layer for classification. The steps are as follows:\n",
    "\n",
    "1. **Data Preprocessing**: The dataset is transformed with random cropping, horizontal flipping, and normalization. The CIFAR-100 images are resized to 32x32 pixels, augmented, and normalized to ensure efficient training.\n",
    "\n",
    "2. **Data Loading**: The CIFAR-100 dataset is split into training, validation, and test sets. Data loaders are used to batch and shuffle the data for training and evaluation.\n",
    "\n",
    "3. **Model Architecture**: The `MyModel` class is built using **PyTorch Lightning** and **DenseNet-121** as the backbone for feature extraction. The final classification layer is added to match the number of CIFAR-100 classes (100 classes). The model is designed to train on a GPU, with automatic gradient accumulation for memory efficiency.\n",
    "\n",
    "4. **Training**: The model is trained for up to 25 epochs with the **Adam** optimizer and **learning rate scheduler** (ReduceLROnPlateau). The **cross-entropy loss** is used for multi-class classification, and **accuracy** is tracked during training, validation, and testing.\n",
    "\n",
    "5. **Callbacks**: The notebook includes the use of **ModelCheckpoint** to save the best-performing models based on validation loss, and **EarlyStopping** to halt training if validation performance doesn't improve after several epochs.\n",
    "\n",
    "6. **Logging**: While training progress was originally planned to be logged using **TensorBoard**, it has been replaced with **MLFlow** for experiment tracking and model logging.\n",
    "\n",
    "**Note:** In this tutorial, reaching high accuracy is not the primary goal. The main objective is to demonstrate how to use **PyTorch Lightning** and **MLFlow** effectively for model training and evaluation. Additionally, this code is written in **Kaggle**, and due to that environment, the **pyngrok** library is used to establish the necessary tunnels for external connections.\n"
   ]
  },
  {
   "cell_type": "markdown",
   "metadata": {},
   "source": [
    "# **Importing necessary Libraries**"
   ]
  },
  {
   "cell_type": "code",
   "execution_count": 77,
   "metadata": {
    "_cell_guid": "b1076dfc-b9ad-4769-8c92-a6c4dae69d19",
    "_uuid": "8f2839f25d086af736a60e9eeb907d3b93b6e0e5",
    "execution": {
     "iopub.execute_input": "2024-12-09T06:49:00.578652Z",
     "iopub.status.busy": "2024-12-09T06:49:00.578271Z",
     "iopub.status.idle": "2024-12-09T06:49:00.584952Z",
     "shell.execute_reply": "2024-12-09T06:49:00.583931Z",
     "shell.execute_reply.started": "2024-12-09T06:49:00.578619Z"
    },
    "trusted": true
   },
   "outputs": [],
   "source": [
    "import torch\n",
    "import torch.nn as nn\n",
    "import torch.nn.functional as F\n",
    "import torch.optim as optim\n",
    "import lightning as L\n",
    "from torch.utils.data import DataLoader,random_split\n",
    "from torchvision import datasets, transforms\n",
    "from lightning.pytorch.callbacks import ModelCheckpoint\n",
    "from lightning.pytorch.loggers.tensorboard import TensorBoardLogger\n",
    "from lightning.pytorch.callbacks.early_stopping import EarlyStopping\n",
    "from torchmetrics import Accuracy\n",
    "import torchvision.models as models\n",
    "from lightning.pytorch import Callback\n",
    "import mlflow.pytorch\n",
    "from pytorch_lightning.loggers import MLFlowLogger"
   ]
  },
  {
   "cell_type": "markdown",
   "metadata": {},
   "source": [
    "# **Defining Transforms for dataset**"
   ]
  },
  {
   "cell_type": "code",
   "execution_count": 11,
   "metadata": {
    "execution": {
     "iopub.execute_input": "2024-12-09T05:17:45.318589Z",
     "iopub.status.busy": "2024-12-09T05:17:45.318264Z",
     "iopub.status.idle": "2024-12-09T05:17:45.324488Z",
     "shell.execute_reply": "2024-12-09T05:17:45.323591Z",
     "shell.execute_reply.started": "2024-12-09T05:17:45.318563Z"
    },
    "trusted": true
   },
   "outputs": [],
   "source": [
    "stats = ((0.4914, 0.4822, 0.4465), (0.2023, 0.1994, 0.2010))\n",
    "train_transform = transforms.Compose([transforms.RandomCrop(32, padding = 4, padding_mode = 'reflect'),\n",
    "                         transforms.RandomHorizontalFlip(),\n",
    "                         transforms.RandomAffine(degrees=(10, 30),\n",
    "                                         translate=(0.1, 0.3),\n",
    "                                         scale=(0.7, 1.3),\n",
    "                                         shear=0.1),\n",
    "                         transforms.ToTensor(),\n",
    "                         transforms.Normalize(*stats)])\n",
    "test_transform=transforms.Compose([\n",
    "    transforms.ToTensor(),\n",
    "    transforms.Normalize(*stats)\n",
    "])"
   ]
  },
  {
   "cell_type": "markdown",
   "metadata": {},
   "source": [
    "# **Loading the Dataset**"
   ]
  },
  {
   "cell_type": "code",
   "execution_count": 14,
   "metadata": {
    "execution": {
     "iopub.execute_input": "2024-12-09T05:25:36.696870Z",
     "iopub.status.busy": "2024-12-09T05:25:36.696534Z",
     "iopub.status.idle": "2024-12-09T05:25:38.495091Z",
     "shell.execute_reply": "2024-12-09T05:25:38.494305Z",
     "shell.execute_reply.started": "2024-12-09T05:25:36.696842Z"
    },
    "trusted": true
   },
   "outputs": [
    {
     "name": "stdout",
     "output_type": "stream",
     "text": [
      "Files already downloaded and verified\n",
      "Files already downloaded and verified\n"
     ]
    }
   ],
   "source": [
    "train_data=datasets.CIFAR100(root='data',train=True,transform=train_transform,download=True)\n",
    "test_data=datasets.CIFAR100(root='data',train=False,transform=test_transform,download=True)\n",
    "train_size=int(0.8*len(train_data))\n",
    "validation_size=len(train_data) - train_size\n",
    "train_data,val_data=random_split(train_data,[train_size,validation_size])\n",
    "train_loader=DataLoader(train_data,batch_size=64,shuffle=True,num_workers=3)\n",
    "val_loader=DataLoader(val_data,batch_size=64,shuffle=False,num_workers=3)\n",
    "test_loader=DataLoader(test_data,batch_size=64,shuffle=False,num_workers=3)"
   ]
  },
  {
   "cell_type": "markdown",
   "metadata": {},
   "source": [
    "# **Creating the Model**"
   ]
  },
  {
   "cell_type": "code",
   "execution_count": 47,
   "metadata": {
    "execution": {
     "iopub.execute_input": "2024-12-09T06:07:04.761645Z",
     "iopub.status.busy": "2024-12-09T06:07:04.761275Z",
     "iopub.status.idle": "2024-12-09T06:07:04.771236Z",
     "shell.execute_reply": "2024-12-09T06:07:04.770358Z",
     "shell.execute_reply.started": "2024-12-09T06:07:04.761612Z"
    },
    "trusted": true
   },
   "outputs": [],
   "source": [
    "class MyModel(L.LightningModule):\n",
    "    def __init__(self):\n",
    "        super(MyModel, self).__init__()\n",
    "        self.save_hyperparameters()\n",
    "        \n",
    "        # Backbone: DenseNet\n",
    "        backbone = models.densenet121(pretrained=True)\n",
    "        num_filters = backbone.classifier.in_features\n",
    "        layers = list(backbone.features.children())\n",
    "        self.feature_extractor = nn.Sequential(*layers)\n",
    "        \n",
    "        # Classifier\n",
    "        num_target_classes = 100\n",
    "        self.classifier = nn.Linear(num_filters, num_target_classes)\n",
    "        \n",
    "        # Metrics\n",
    "        self.acc = Accuracy(task=\"multiclass\", num_classes=num_target_classes)\n",
    "    \n",
    "    # Forward pass\n",
    "    def forward(self, x):\n",
    "        representations = self.feature_extractor(x)\n",
    "        representations = representations.mean([2, 3])  # Global Average Pooling\n",
    "        x = self.classifier(representations)\n",
    "        return x\n",
    "\n",
    "    # Training step\n",
    "    def training_step(self, batch, batch_idx):\n",
    "        x, y = batch\n",
    "        y_pred = self(x)\n",
    "        training_loss = F.cross_entropy(y_pred, y)\n",
    "        self.log(\"train_loss\", training_loss, prog_bar=True)\n",
    "        return training_loss\n",
    "\n",
    "    # Validation step\n",
    "    def validation_step(self, batch, batch_idx):\n",
    "        x, y = batch\n",
    "        y_pred = self(x)\n",
    "        val_loss = F.cross_entropy(y_pred, y)\n",
    "        val_acc = self.acc(y_pred, y)\n",
    "        self.log(\"val_loss\", val_loss, prog_bar=True)\n",
    "        self.log(\"val_acc\", val_acc, prog_bar=True)\n",
    "\n",
    "    # Test step\n",
    "    def test_step(self, batch, batch_idx):\n",
    "        x, y = batch\n",
    "        y_pred = self(x)\n",
    "        test_loss = F.cross_entropy(y_pred, y)\n",
    "        test_acc = self.acc(y_pred, y)\n",
    "        self.log(\"test_loss\", test_loss, prog_bar=True)\n",
    "        self.log(\"test_acc\", test_acc, prog_bar=True)\n",
    "\n",
    "    # Configure optimizers\n",
    "    def configure_optimizers(self):\n",
    "        optimizer = torch.optim.Adam(self.parameters(), lr=1e-3)\n",
    "        scheduler = torch.optim.lr_scheduler.ReduceLROnPlateau(\n",
    "            optimizer, mode=\"min\", factor=0.1, patience=5\n",
    "        )\n",
    "        return {\n",
    "            \"optimizer\": optimizer,\n",
    "            \"lr_scheduler\": {\n",
    "                \"scheduler\": scheduler,\n",
    "                \"monitor\": \"val_loss\",\n",
    "            },\n",
    "        }\n"
   ]
  },
  {
   "cell_type": "markdown",
   "metadata": {},
   "source": [
    "# **Checkpoint and early stopping**"
   ]
  },
  {
   "cell_type": "code",
   "execution_count": 37,
   "metadata": {
    "execution": {
     "iopub.execute_input": "2024-12-09T05:59:24.584797Z",
     "iopub.status.busy": "2024-12-09T05:59:24.583916Z",
     "iopub.status.idle": "2024-12-09T05:59:24.592591Z",
     "shell.execute_reply": "2024-12-09T05:59:24.591659Z",
     "shell.execute_reply.started": "2024-12-09T05:59:24.584764Z"
    },
    "trusted": true
   },
   "outputs": [],
   "source": [
    "callback_checkpoint=ModelCheckpoint(\n",
    "    dirpath='./',\n",
    "    filename='Checkpoint',\n",
    "    monitor='val_loss',\n",
    "    mode='min'\n",
    ")\n",
    "early_stopping = EarlyStopping(monitor=\"val_loss\", patience=5, mode=\"min\", verbose=False)"
   ]
  },
  {
   "cell_type": "markdown",
   "metadata": {},
   "source": [
    "# **MLFlow lgger**"
   ]
  },
  {
   "cell_type": "code",
   "execution_count": 41,
   "metadata": {
    "execution": {
     "iopub.execute_input": "2024-12-09T06:04:38.264252Z",
     "iopub.status.busy": "2024-12-09T06:04:38.263861Z",
     "iopub.status.idle": "2024-12-09T06:04:38.269403Z",
     "shell.execute_reply": "2024-12-09T06:04:38.268592Z",
     "shell.execute_reply.started": "2024-12-09T06:04:38.264221Z"
    },
    "trusted": true
   },
   "outputs": [],
   "source": [
    "mlflow_logger=MLFlowLogger(\n",
    "    experiment_name='final Run of the Lightning and MLFlow',\n",
    "    log_model=True\n",
    ")"
   ]
  },
  {
   "cell_type": "markdown",
   "metadata": {},
   "source": [
    "# **Create and use Model**"
   ]
  },
  {
   "cell_type": "code",
   "execution_count": 48,
   "metadata": {
    "execution": {
     "iopub.execute_input": "2024-12-09T06:07:07.707705Z",
     "iopub.status.busy": "2024-12-09T06:07:07.707345Z",
     "iopub.status.idle": "2024-12-09T06:30:28.843607Z",
     "shell.execute_reply": "2024-12-09T06:30:28.842684Z",
     "shell.execute_reply.started": "2024-12-09T06:07:07.707674Z"
    },
    "trusted": true
   },
   "outputs": [
    {
     "name": "stderr",
     "output_type": "stream",
     "text": [
      "2024/12/09 06:07:07 INFO mlflow.utils.autologging_utils: Created MLflow autologging run with ID 'cc53a0ed21d74a52acb1fd37878e2498', which will track hyperparameters, performance metrics, model artifacts, and lineage information for the current pytorch workflow\n",
      "/opt/conda/lib/python3.10/site-packages/lightning/pytorch/callbacks/model_checkpoint.py:654: Checkpoint directory /kaggle/working exists and is not empty.\n",
      "INFO: LOCAL_RANK: 0 - CUDA_VISIBLE_DEVICES: [0]\n",
      "INFO: \n",
      "  | Name              | Type               | Params | Mode \n",
      "-----------------------------------------------------------------\n",
      "0 | feature_extractor | Sequential         | 7.0 M  | train\n",
      "1 | classifier        | Linear             | 102 K  | train\n",
      "2 | acc               | MulticlassAccuracy | 0      | train\n",
      "-----------------------------------------------------------------\n",
      "7.1 M     Trainable params\n",
      "0         Non-trainable params\n",
      "7.1 M     Total params\n",
      "28.225    Total estimated model params size (MB)\n",
      "433       Modules in train mode\n",
      "0         Modules in eval mode\n"
     ]
    },
    {
     "data": {
      "application/vnd.jupyter.widget-view+json": {
       "model_id": "",
       "version_major": 2,
       "version_minor": 0
      },
      "text/plain": [
       "Sanity Checking: |          | 0/? [00:00<?, ?it/s]"
      ]
     },
     "metadata": {},
     "output_type": "display_data"
    },
    {
     "name": "stderr",
     "output_type": "stream",
     "text": [
      "/opt/conda/lib/python3.10/multiprocessing/popen_fork.py:66: RuntimeWarning: os.fork() was called. os.fork() is incompatible with multithreaded code, and JAX is multithreaded, so this will likely lead to a deadlock.\n",
      "  self.pid = os.fork()\n"
     ]
    },
    {
     "data": {
      "application/vnd.jupyter.widget-view+json": {
       "model_id": "3d4a1def880942458f145c669ce5f625",
       "version_major": 2,
       "version_minor": 0
      },
      "text/plain": [
       "Training: |          | 0/? [00:00<?, ?it/s]"
      ]
     },
     "metadata": {},
     "output_type": "display_data"
    },
    {
     "name": "stderr",
     "output_type": "stream",
     "text": [
      "/opt/conda/lib/python3.10/multiprocessing/popen_fork.py:66: RuntimeWarning: os.fork() was called. os.fork() is incompatible with multithreaded code, and JAX is multithreaded, so this will likely lead to a deadlock.\n",
      "  self.pid = os.fork()\n"
     ]
    },
    {
     "data": {
      "application/vnd.jupyter.widget-view+json": {
       "model_id": "",
       "version_major": 2,
       "version_minor": 0
      },
      "text/plain": [
       "Validation: |          | 0/? [00:00<?, ?it/s]"
      ]
     },
     "metadata": {},
     "output_type": "display_data"
    },
    {
     "data": {
      "application/vnd.jupyter.widget-view+json": {
       "model_id": "",
       "version_major": 2,
       "version_minor": 0
      },
      "text/plain": [
       "Validation: |          | 0/? [00:00<?, ?it/s]"
      ]
     },
     "metadata": {},
     "output_type": "display_data"
    },
    {
     "data": {
      "application/vnd.jupyter.widget-view+json": {
       "model_id": "",
       "version_major": 2,
       "version_minor": 0
      },
      "text/plain": [
       "Validation: |          | 0/? [00:00<?, ?it/s]"
      ]
     },
     "metadata": {},
     "output_type": "display_data"
    },
    {
     "data": {
      "application/vnd.jupyter.widget-view+json": {
       "model_id": "",
       "version_major": 2,
       "version_minor": 0
      },
      "text/plain": [
       "Validation: |          | 0/? [00:00<?, ?it/s]"
      ]
     },
     "metadata": {},
     "output_type": "display_data"
    },
    {
     "data": {
      "application/vnd.jupyter.widget-view+json": {
       "model_id": "",
       "version_major": 2,
       "version_minor": 0
      },
      "text/plain": [
       "Validation: |          | 0/? [00:00<?, ?it/s]"
      ]
     },
     "metadata": {},
     "output_type": "display_data"
    },
    {
     "data": {
      "application/vnd.jupyter.widget-view+json": {
       "model_id": "",
       "version_major": 2,
       "version_minor": 0
      },
      "text/plain": [
       "Validation: |          | 0/? [00:00<?, ?it/s]"
      ]
     },
     "metadata": {},
     "output_type": "display_data"
    },
    {
     "data": {
      "application/vnd.jupyter.widget-view+json": {
       "model_id": "",
       "version_major": 2,
       "version_minor": 0
      },
      "text/plain": [
       "Validation: |          | 0/? [00:00<?, ?it/s]"
      ]
     },
     "metadata": {},
     "output_type": "display_data"
    },
    {
     "data": {
      "application/vnd.jupyter.widget-view+json": {
       "model_id": "",
       "version_major": 2,
       "version_minor": 0
      },
      "text/plain": [
       "Validation: |          | 0/? [00:00<?, ?it/s]"
      ]
     },
     "metadata": {},
     "output_type": "display_data"
    },
    {
     "data": {
      "application/vnd.jupyter.widget-view+json": {
       "model_id": "",
       "version_major": 2,
       "version_minor": 0
      },
      "text/plain": [
       "Validation: |          | 0/? [00:00<?, ?it/s]"
      ]
     },
     "metadata": {},
     "output_type": "display_data"
    },
    {
     "data": {
      "application/vnd.jupyter.widget-view+json": {
       "model_id": "",
       "version_major": 2,
       "version_minor": 0
      },
      "text/plain": [
       "Validation: |          | 0/? [00:00<?, ?it/s]"
      ]
     },
     "metadata": {},
     "output_type": "display_data"
    },
    {
     "data": {
      "application/vnd.jupyter.widget-view+json": {
       "model_id": "",
       "version_major": 2,
       "version_minor": 0
      },
      "text/plain": [
       "Validation: |          | 0/? [00:00<?, ?it/s]"
      ]
     },
     "metadata": {},
     "output_type": "display_data"
    },
    {
     "data": {
      "application/vnd.jupyter.widget-view+json": {
       "model_id": "",
       "version_major": 2,
       "version_minor": 0
      },
      "text/plain": [
       "Validation: |          | 0/? [00:00<?, ?it/s]"
      ]
     },
     "metadata": {},
     "output_type": "display_data"
    },
    {
     "data": {
      "application/vnd.jupyter.widget-view+json": {
       "model_id": "",
       "version_major": 2,
       "version_minor": 0
      },
      "text/plain": [
       "Validation: |          | 0/? [00:00<?, ?it/s]"
      ]
     },
     "metadata": {},
     "output_type": "display_data"
    },
    {
     "data": {
      "application/vnd.jupyter.widget-view+json": {
       "model_id": "",
       "version_major": 2,
       "version_minor": 0
      },
      "text/plain": [
       "Validation: |          | 0/? [00:00<?, ?it/s]"
      ]
     },
     "metadata": {},
     "output_type": "display_data"
    },
    {
     "data": {
      "application/vnd.jupyter.widget-view+json": {
       "model_id": "",
       "version_major": 2,
       "version_minor": 0
      },
      "text/plain": [
       "Validation: |          | 0/? [00:00<?, ?it/s]"
      ]
     },
     "metadata": {},
     "output_type": "display_data"
    },
    {
     "data": {
      "application/vnd.jupyter.widget-view+json": {
       "model_id": "",
       "version_major": 2,
       "version_minor": 0
      },
      "text/plain": [
       "Validation: |          | 0/? [00:00<?, ?it/s]"
      ]
     },
     "metadata": {},
     "output_type": "display_data"
    },
    {
     "data": {
      "application/vnd.jupyter.widget-view+json": {
       "model_id": "",
       "version_major": 2,
       "version_minor": 0
      },
      "text/plain": [
       "Validation: |          | 0/? [00:00<?, ?it/s]"
      ]
     },
     "metadata": {},
     "output_type": "display_data"
    },
    {
     "data": {
      "application/vnd.jupyter.widget-view+json": {
       "model_id": "",
       "version_major": 2,
       "version_minor": 0
      },
      "text/plain": [
       "Validation: |          | 0/? [00:00<?, ?it/s]"
      ]
     },
     "metadata": {},
     "output_type": "display_data"
    },
    {
     "data": {
      "application/vnd.jupyter.widget-view+json": {
       "model_id": "",
       "version_major": 2,
       "version_minor": 0
      },
      "text/plain": [
       "Validation: |          | 0/? [00:00<?, ?it/s]"
      ]
     },
     "metadata": {},
     "output_type": "display_data"
    },
    {
     "data": {
      "application/vnd.jupyter.widget-view+json": {
       "model_id": "",
       "version_major": 2,
       "version_minor": 0
      },
      "text/plain": [
       "Validation: |          | 0/? [00:00<?, ?it/s]"
      ]
     },
     "metadata": {},
     "output_type": "display_data"
    },
    {
     "data": {
      "application/vnd.jupyter.widget-view+json": {
       "model_id": "",
       "version_major": 2,
       "version_minor": 0
      },
      "text/plain": [
       "Validation: |          | 0/? [00:00<?, ?it/s]"
      ]
     },
     "metadata": {},
     "output_type": "display_data"
    },
    {
     "data": {
      "application/vnd.jupyter.widget-view+json": {
       "model_id": "",
       "version_major": 2,
       "version_minor": 0
      },
      "text/plain": [
       "Validation: |          | 0/? [00:00<?, ?it/s]"
      ]
     },
     "metadata": {},
     "output_type": "display_data"
    },
    {
     "data": {
      "application/vnd.jupyter.widget-view+json": {
       "model_id": "",
       "version_major": 2,
       "version_minor": 0
      },
      "text/plain": [
       "Validation: |          | 0/? [00:00<?, ?it/s]"
      ]
     },
     "metadata": {},
     "output_type": "display_data"
    },
    {
     "data": {
      "application/vnd.jupyter.widget-view+json": {
       "model_id": "",
       "version_major": 2,
       "version_minor": 0
      },
      "text/plain": [
       "Validation: |          | 0/? [00:00<?, ?it/s]"
      ]
     },
     "metadata": {},
     "output_type": "display_data"
    },
    {
     "data": {
      "application/vnd.jupyter.widget-view+json": {
       "model_id": "",
       "version_major": 2,
       "version_minor": 0
      },
      "text/plain": [
       "Validation: |          | 0/? [00:00<?, ?it/s]"
      ]
     },
     "metadata": {},
     "output_type": "display_data"
    },
    {
     "name": "stderr",
     "output_type": "stream",
     "text": [
      "2024/12/09 06:30:21 WARNING mlflow.utils.environment: Encountered an unexpected error while inferring pip requirements (model URI: /tmp/tmpipkg1gp9/model/data, flavor: pytorch). Fall back to return ['torch==2.4.0', 'cloudpickle==3.1.0']. Set logging level to DEBUG to see the full traceback. \n",
      "2024/12/09 06:30:21 WARNING mlflow.models.model: Model logged without a signature and input example. Please set `input_example` parameter when logging the model to auto infer the model signature.\n",
      "2024/12/09 06:30:28 WARNING mlflow.utils.environment: Encountered an unexpected error while inferring pip requirements (model URI: /tmp/tmp3sn08fw_/model/data, flavor: pytorch). Fall back to return ['torch==2.4.0', 'cloudpickle==3.1.0']. Set logging level to DEBUG to see the full traceback. \n",
      "2024/12/09 06:30:28 WARNING mlflow.models.model: Model logged without a signature and input example. Please set `input_example` parameter when logging the model to auto infer the model signature.\n",
      "Successfully registered model 'DenseNet'.\n",
      "Created version '1' of model 'DenseNet'.\n"
     ]
    },
    {
     "data": {
      "text/plain": [
       "<mlflow.models.model.ModelInfo at 0x792b96148eb0>"
      ]
     },
     "execution_count": 48,
     "metadata": {},
     "output_type": "execute_result"
    }
   ],
   "source": [
    "model=MyModel()\n",
    "trainer=L.Trainer(\n",
    "        accelerator='gpu',devices=-1,callbacks=callback_checkpoint,\n",
    "        max_epochs=25,accumulate_grad_batches=5,logger=mlflow_logger\n",
    ")\n",
    "mlflow.pytorch.autolog()\n",
    "trainer.fit(model,train_loader,val_loader)\n",
    "mlflow.pytorch.log_model(\n",
    "    pytorch_model=model,\n",
    "    artifact_path=\"models\",\n",
    "    registered_model_name=\"DenseNet\",\n",
    ")"
   ]
  },
  {
   "cell_type": "code",
   "execution_count": 49,
   "metadata": {
    "execution": {
     "iopub.execute_input": "2024-12-09T06:30:47.442802Z",
     "iopub.status.busy": "2024-12-09T06:30:47.442438Z",
     "iopub.status.idle": "2024-12-09T06:30:52.238314Z",
     "shell.execute_reply": "2024-12-09T06:30:52.237332Z",
     "shell.execute_reply.started": "2024-12-09T06:30:47.442768Z"
    },
    "trusted": true
   },
   "outputs": [
    {
     "name": "stderr",
     "output_type": "stream",
     "text": [
      "INFO: LOCAL_RANK: 0 - CUDA_VISIBLE_DEVICES: [0]\n"
     ]
    },
    {
     "data": {
      "application/vnd.jupyter.widget-view+json": {
       "model_id": "36184c191d5349c29848ccee06b620af",
       "version_major": 2,
       "version_minor": 0
      },
      "text/plain": [
       "Testing: |          | 0/? [00:00<?, ?it/s]"
      ]
     },
     "metadata": {},
     "output_type": "display_data"
    },
    {
     "data": {
      "text/html": [
       "<pre style=\"white-space:pre;overflow-x:auto;line-height:normal;font-family:Menlo,'DejaVu Sans Mono',consolas,'Courier New',monospace\">┏━━━━━━━━━━━━━━━━━━━━━━━━━━━┳━━━━━━━━━━━━━━━━━━━━━━━━━━━┓\n",
       "┃<span style=\"font-weight: bold\">        Test metric        </span>┃<span style=\"font-weight: bold\">       DataLoader 0        </span>┃\n",
       "┡━━━━━━━━━━━━━━━━━━━━━━━━━━━╇━━━━━━━━━━━━━━━━━━━━━━━━━━━┩\n",
       "│<span style=\"color: #008080; text-decoration-color: #008080\">         test_acc          </span>│<span style=\"color: #800080; text-decoration-color: #800080\">    0.5490999817848206     </span>│\n",
       "│<span style=\"color: #008080; text-decoration-color: #008080\">         test_loss         </span>│<span style=\"color: #800080; text-decoration-color: #800080\">    1.8499935865402222     </span>│\n",
       "└───────────────────────────┴───────────────────────────┘\n",
       "</pre>\n"
      ],
      "text/plain": [
       "┏━━━━━━━━━━━━━━━━━━━━━━━━━━━┳━━━━━━━━━━━━━━━━━━━━━━━━━━━┓\n",
       "┃\u001b[1m \u001b[0m\u001b[1m       Test metric       \u001b[0m\u001b[1m \u001b[0m┃\u001b[1m \u001b[0m\u001b[1m      DataLoader 0       \u001b[0m\u001b[1m \u001b[0m┃\n",
       "┡━━━━━━━━━━━━━━━━━━━━━━━━━━━╇━━━━━━━━━━━━━━━━━━━━━━━━━━━┩\n",
       "│\u001b[36m \u001b[0m\u001b[36m        test_acc         \u001b[0m\u001b[36m \u001b[0m│\u001b[35m \u001b[0m\u001b[35m   0.5490999817848206    \u001b[0m\u001b[35m \u001b[0m│\n",
       "│\u001b[36m \u001b[0m\u001b[36m        test_loss        \u001b[0m\u001b[36m \u001b[0m│\u001b[35m \u001b[0m\u001b[35m   1.8499935865402222    \u001b[0m\u001b[35m \u001b[0m│\n",
       "└───────────────────────────┴───────────────────────────┘\n"
      ]
     },
     "metadata": {},
     "output_type": "display_data"
    },
    {
     "data": {
      "text/plain": [
       "[{'test_loss': 1.8499935865402222, 'test_acc': 0.5490999817848206}]"
      ]
     },
     "execution_count": 49,
     "metadata": {},
     "output_type": "execute_result"
    }
   ],
   "source": [
    "trainer.test(model,test_loader)"
   ]
  },
  {
   "cell_type": "markdown",
   "metadata": {},
   "source": [
    "# **MLFlow UI using ngrok**"
   ]
  },
  {
   "cell_type": "code",
   "execution_count": 51,
   "metadata": {
    "execution": {
     "iopub.execute_input": "2024-12-09T06:31:44.036490Z",
     "iopub.status.busy": "2024-12-09T06:31:44.035611Z",
     "iopub.status.idle": "2024-12-09T06:31:52.611896Z",
     "shell.execute_reply": "2024-12-09T06:31:52.610941Z",
     "shell.execute_reply.started": "2024-12-09T06:31:44.036455Z"
    },
    "trusted": true
   },
   "outputs": [
    {
     "name": "stderr",
     "output_type": "stream",
     "text": [
      "/opt/conda/lib/python3.10/pty.py:89: RuntimeWarning: os.fork() was called. os.fork() is incompatible with multithreaded code, and JAX is multithreaded, so this will likely lead to a deadlock.\n",
      "  pid, fd = os.forkpty()\n"
     ]
    }
   ],
   "source": [
    "!pip install pyngrok --quiet"
   ]
  },
  {
   "cell_type": "code",
   "execution_count": 71,
   "metadata": {
    "execution": {
     "iopub.execute_input": "2024-12-09T06:43:11.997802Z",
     "iopub.status.busy": "2024-12-09T06:43:11.996886Z",
     "iopub.status.idle": "2024-12-09T06:43:12.409705Z",
     "shell.execute_reply": "2024-12-09T06:43:12.408785Z",
     "shell.execute_reply.started": "2024-12-09T06:43:11.997764Z"
    },
    "trusted": true
   },
   "outputs": [
    {
     "name": "stdout",
     "output_type": "stream",
     "text": [
      "MLflow tracking UI: https://d0f1-34-83-203-88.ngrok-free.app\n"
     ]
    }
   ],
   "source": [
    "from pyngrok import ngrok\n",
    "ngrok.kill()\n",
    "NGROK_Token=\"TourOwnToken\"\n",
    "ngrok.set_auth_token(NGROK_Token)\n",
    "ngrok_tunnel=ngrok.connect(addr='5000',proto='http',bind_tls=True)\n",
    "print(\"MLflow tracking UI:\",ngrok_tunnel.public_url)"
   ]
  },
  {
   "cell_type": "code",
   "execution_count": 72,
   "metadata": {
    "execution": {
     "iopub.execute_input": "2024-12-09T06:43:13.653846Z",
     "iopub.status.busy": "2024-12-09T06:43:13.653502Z",
     "iopub.status.idle": "2024-12-09T06:45:32.221455Z",
     "shell.execute_reply": "2024-12-09T06:45:32.220547Z",
     "shell.execute_reply.started": "2024-12-09T06:43:13.653815Z"
    },
    "trusted": true
   },
   "outputs": [
    {
     "name": "stdout",
     "output_type": "stream",
     "text": [
      "[2024-12-09 06:43:16 +0000] [1601] [INFO] Starting gunicorn 23.0.0\n",
      "[2024-12-09 06:43:16 +0000] [1601] [INFO] Listening at: http://127.0.0.1:5000 (1601)\n",
      "[2024-12-09 06:43:16 +0000] [1601] [INFO] Using worker: sync\n",
      "[2024-12-09 06:43:16 +0000] [1602] [INFO] Booting worker with pid: 1602\n",
      "[2024-12-09 06:43:16 +0000] [1603] [INFO] Booting worker with pid: 1603\n",
      "[2024-12-09 06:43:16 +0000] [1604] [INFO] Booting worker with pid: 1604\n",
      "[2024-12-09 06:43:16 +0000] [1605] [INFO] Booting worker with pid: 1605\n",
      "^C\n",
      "[2024-12-09 06:45:31 +0000] [1601] [INFO] Handling signal: int\n",
      "[2024-12-09 06:45:31 +0000] [1604] [INFO] Worker exiting (pid: 1604)\n",
      "[2024-12-09 06:45:31 +0000] [1602] [INFO] Worker exiting (pid: 1602)\n",
      "[2024-12-09 06:45:31 +0000] [1605] [INFO] Worker exiting (pid: 1605)\n",
      "[2024-12-09 06:45:31 +0000] [1603] [INFO] Worker exiting (pid: 1603)\n"
     ]
    }
   ],
   "source": [
    "!mlflow ui"
   ]
  },
  {
   "cell_type": "markdown",
   "metadata": {},
   "source": [
    "# **Checking Saved Model from MLFlow**"
   ]
  },
  {
   "cell_type": "code",
   "execution_count": 74,
   "metadata": {
    "execution": {
     "iopub.execute_input": "2024-12-09T06:45:37.279848Z",
     "iopub.status.busy": "2024-12-09T06:45:37.279132Z",
     "iopub.status.idle": "2024-12-09T06:45:44.017963Z",
     "shell.execute_reply": "2024-12-09T06:45:44.017119Z",
     "shell.execute_reply.started": "2024-12-09T06:45:37.279814Z"
    },
    "trusted": true
   },
   "outputs": [
    {
     "name": "stderr",
     "output_type": "stream",
     "text": [
      "2024/12/09 06:45:43 WARNING mlflow.utils.environment: Encountered an unexpected error while inferring pip requirements (model URI: /tmp/tmpgirpfv6u/model/data, flavor: pytorch). Fall back to return ['torch==2.4.0', 'cloudpickle==3.1.0']. Set logging level to DEBUG to see the full traceback. \n",
      "2024/12/09 06:45:43 WARNING mlflow.models.model: Model logged without a signature and input example. Please set `input_example` parameter when logging the model to auto infer the model signature.\n",
      "Registered model 'DenseNet' already exists. Creating a new version of this model...\n",
      "Created version '3' of model 'DenseNet'.\n"
     ]
    },
    {
     "data": {
      "text/plain": [
       "<mlflow.models.model.ModelInfo at 0x792b9c182ad0>"
      ]
     },
     "execution_count": 74,
     "metadata": {},
     "output_type": "execute_result"
    }
   ],
   "source": [
    "mlflow.pytorch.log_model(\n",
    "    pytorch_model=model,\n",
    "    artifact_path=\"models\",\n",
    "    registered_model_name=\"DenseNet\",\n",
    ")\n"
   ]
  },
  {
   "cell_type": "markdown",
   "metadata": {},
   "source": [
    "# **Finding Run ID of the Model**"
   ]
  },
  {
   "cell_type": "code",
   "execution_count": 75,
   "metadata": {
    "execution": {
     "iopub.execute_input": "2024-12-09T06:45:44.019658Z",
     "iopub.status.busy": "2024-12-09T06:45:44.019404Z",
     "iopub.status.idle": "2024-12-09T06:45:44.035211Z",
     "shell.execute_reply": "2024-12-09T06:45:44.034274Z",
     "shell.execute_reply.started": "2024-12-09T06:45:44.019631Z"
    },
    "trusted": true
   },
   "outputs": [
    {
     "name": "stdout",
     "output_type": "stream",
     "text": [
      "                             run_id  \\\n",
      "0  d58ce97f670c417d9b3ba7626b2610da   \n",
      "\n",
      "                                        artifact_uri  \n",
      "0  file:///kaggle/working/mlruns/5469535754364011...  \n"
     ]
    }
   ],
   "source": [
    "experiment = mlflow.get_experiment_by_name(\"final Run of the Lightning and MLFlow\")  \n",
    "runs = mlflow.search_runs(experiment_ids=experiment.experiment_id)\n",
    "print(repr(runs[['run_id', 'artifact_uri']]))"
   ]
  }
 ],
 "metadata": {
  "kaggle": {
   "accelerator": "gpu",
   "dataSources": [],
   "dockerImageVersionId": 30805,
   "isGpuEnabled": true,
   "isInternetEnabled": true,
   "language": "python",
   "sourceType": "notebook"
  },
  "kernelspec": {
   "display_name": "Python 3",
   "language": "python",
   "name": "python3"
  },
  "language_info": {
   "codemirror_mode": {
    "name": "ipython",
    "version": 3
   },
   "file_extension": ".py",
   "mimetype": "text/x-python",
   "name": "python",
   "nbconvert_exporter": "python",
   "pygments_lexer": "ipython3",
   "version": "3.10.14"
  }
 },
 "nbformat": 4,
 "nbformat_minor": 4
}
